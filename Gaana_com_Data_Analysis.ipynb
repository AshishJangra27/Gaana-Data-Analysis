{
  "nbformat": 4,
  "nbformat_minor": 0,
  "metadata": {
    "colab": {
      "name": "Gaana.com Data Analysis",
      "provenance": []
    },
    "kernelspec": {
      "name": "python3",
      "display_name": "Python 3"
    },
    "language_info": {
      "name": "python"
    }
  },
  "cells": [
    {
      "cell_type": "code",
      "source": [
        "!git clone https://github.com/AshishJangra27/Gaana-Data-Analysis"
      ],
      "metadata": {
        "id": "V22lQJLTE9DX",
        "colab": {
          "base_uri": "https://localhost:8080/"
        },
        "outputId": "2d42caae-70d2-410b-c1f5-336c95bc6213"
      },
      "execution_count": 1,
      "outputs": [
        {
          "output_type": "stream",
          "name": "stdout",
          "text": [
            "Cloning into 'Gaana-Data-Analysis'...\n",
            "remote: Enumerating objects: 23, done.\u001b[K\n",
            "remote: Counting objects: 100% (23/23), done.\u001b[K\n",
            "remote: Compressing objects: 100% (23/23), done.\u001b[K\n",
            "remote: Total 23 (delta 7), reused 0 (delta 0), pack-reused 0\u001b[K\n",
            "Unpacking objects: 100% (23/23), done.\n"
          ]
        }
      ]
    },
    {
      "cell_type": "code",
      "source": [
        "import pandas as pd\n",
        "from tqdm import tqdm\n",
        "\n",
        "df = pd.read_csv('Gaana-Data-Analysis/songs.csv')"
      ],
      "metadata": {
        "id": "DaHiHbrbSsM-"
      },
      "execution_count": 2,
      "outputs": []
    },
    {
      "cell_type": "code",
      "source": [
        "df.head()"
      ],
      "metadata": {
        "colab": {
          "base_uri": "https://localhost:8080/",
          "height": 206
        },
        "id": "xZHjfJATTKHT",
        "outputId": "02fee441-7dcb-4ddd-b27d-5a744a55148e"
      },
      "execution_count": 6,
      "outputs": [
        {
          "output_type": "execute_result",
          "data": {
            "text/plain": [
              "                                      name                     singer  \\\n",
              "0                    Dil - E - Nadan Tujhe  Chitra Singh|Jagjit Singh   \n",
              "1        Agar Hum Kahen Aur Woh Muskara De  Chitra Singh|Jagjit Singh   \n",
              "2                            Unke Dekhe Se               Jagjit Singh   \n",
              "3  Yeh Na Thi Hamari Qismat - Chitra Singh               Chitra Singh   \n",
              "4                  Hazaron Khwahishen Aisi               Jagjit Singh   \n",
              "\n",
              "                                      singer_id duration  \\\n",
              "0  /artist/chitra-singh|/artist/jagjeet-singh-1    05:00   \n",
              "1  /artist/chitra-singh|/artist/jagjeet-singh-1    06:26   \n",
              "2                       /artist/jagjeet-singh-1    03:41   \n",
              "3                          /artist/chitra-singh    04:26   \n",
              "4                       /artist/jagjeet-singh-1    05:39   \n",
              "\n",
              "                                  link language  \n",
              "0                 /dil-e-nadan-tujhe-3     Urdu  \n",
              "1  /agar-hum-kahen-aur-woh-muskura-den     Urdu  \n",
              "2                       /unke-dekhe-se     Urdu  \n",
              "3          /yeh-na-thi-hamari-qismat-2     Urdu  \n",
              "4           /hazaron-khwahishen-aisi-1     Urdu  "
            ],
            "text/html": [
              "\n",
              "  <div id=\"df-60452498-51cd-4a4c-81e1-afa57b75aee7\">\n",
              "    <div class=\"colab-df-container\">\n",
              "      <div>\n",
              "<style scoped>\n",
              "    .dataframe tbody tr th:only-of-type {\n",
              "        vertical-align: middle;\n",
              "    }\n",
              "\n",
              "    .dataframe tbody tr th {\n",
              "        vertical-align: top;\n",
              "    }\n",
              "\n",
              "    .dataframe thead th {\n",
              "        text-align: right;\n",
              "    }\n",
              "</style>\n",
              "<table border=\"1\" class=\"dataframe\">\n",
              "  <thead>\n",
              "    <tr style=\"text-align: right;\">\n",
              "      <th></th>\n",
              "      <th>name</th>\n",
              "      <th>singer</th>\n",
              "      <th>singer_id</th>\n",
              "      <th>duration</th>\n",
              "      <th>link</th>\n",
              "      <th>language</th>\n",
              "    </tr>\n",
              "  </thead>\n",
              "  <tbody>\n",
              "    <tr>\n",
              "      <th>0</th>\n",
              "      <td>Dil - E - Nadan Tujhe</td>\n",
              "      <td>Chitra Singh|Jagjit Singh</td>\n",
              "      <td>/artist/chitra-singh|/artist/jagjeet-singh-1</td>\n",
              "      <td>05:00</td>\n",
              "      <td>/dil-e-nadan-tujhe-3</td>\n",
              "      <td>Urdu</td>\n",
              "    </tr>\n",
              "    <tr>\n",
              "      <th>1</th>\n",
              "      <td>Agar Hum Kahen Aur Woh Muskara De</td>\n",
              "      <td>Chitra Singh|Jagjit Singh</td>\n",
              "      <td>/artist/chitra-singh|/artist/jagjeet-singh-1</td>\n",
              "      <td>06:26</td>\n",
              "      <td>/agar-hum-kahen-aur-woh-muskura-den</td>\n",
              "      <td>Urdu</td>\n",
              "    </tr>\n",
              "    <tr>\n",
              "      <th>2</th>\n",
              "      <td>Unke Dekhe Se</td>\n",
              "      <td>Jagjit Singh</td>\n",
              "      <td>/artist/jagjeet-singh-1</td>\n",
              "      <td>03:41</td>\n",
              "      <td>/unke-dekhe-se</td>\n",
              "      <td>Urdu</td>\n",
              "    </tr>\n",
              "    <tr>\n",
              "      <th>3</th>\n",
              "      <td>Yeh Na Thi Hamari Qismat - Chitra Singh</td>\n",
              "      <td>Chitra Singh</td>\n",
              "      <td>/artist/chitra-singh</td>\n",
              "      <td>04:26</td>\n",
              "      <td>/yeh-na-thi-hamari-qismat-2</td>\n",
              "      <td>Urdu</td>\n",
              "    </tr>\n",
              "    <tr>\n",
              "      <th>4</th>\n",
              "      <td>Hazaron Khwahishen Aisi</td>\n",
              "      <td>Jagjit Singh</td>\n",
              "      <td>/artist/jagjeet-singh-1</td>\n",
              "      <td>05:39</td>\n",
              "      <td>/hazaron-khwahishen-aisi-1</td>\n",
              "      <td>Urdu</td>\n",
              "    </tr>\n",
              "  </tbody>\n",
              "</table>\n",
              "</div>\n",
              "      <button class=\"colab-df-convert\" onclick=\"convertToInteractive('df-60452498-51cd-4a4c-81e1-afa57b75aee7')\"\n",
              "              title=\"Convert this dataframe to an interactive table.\"\n",
              "              style=\"display:none;\">\n",
              "        \n",
              "  <svg xmlns=\"http://www.w3.org/2000/svg\" height=\"24px\"viewBox=\"0 0 24 24\"\n",
              "       width=\"24px\">\n",
              "    <path d=\"M0 0h24v24H0V0z\" fill=\"none\"/>\n",
              "    <path d=\"M18.56 5.44l.94 2.06.94-2.06 2.06-.94-2.06-.94-.94-2.06-.94 2.06-2.06.94zm-11 1L8.5 8.5l.94-2.06 2.06-.94-2.06-.94L8.5 2.5l-.94 2.06-2.06.94zm10 10l.94 2.06.94-2.06 2.06-.94-2.06-.94-.94-2.06-.94 2.06-2.06.94z\"/><path d=\"M17.41 7.96l-1.37-1.37c-.4-.4-.92-.59-1.43-.59-.52 0-1.04.2-1.43.59L10.3 9.45l-7.72 7.72c-.78.78-.78 2.05 0 2.83L4 21.41c.39.39.9.59 1.41.59.51 0 1.02-.2 1.41-.59l7.78-7.78 2.81-2.81c.8-.78.8-2.07 0-2.86zM5.41 20L4 18.59l7.72-7.72 1.47 1.35L5.41 20z\"/>\n",
              "  </svg>\n",
              "      </button>\n",
              "      \n",
              "  <style>\n",
              "    .colab-df-container {\n",
              "      display:flex;\n",
              "      flex-wrap:wrap;\n",
              "      gap: 12px;\n",
              "    }\n",
              "\n",
              "    .colab-df-convert {\n",
              "      background-color: #E8F0FE;\n",
              "      border: none;\n",
              "      border-radius: 50%;\n",
              "      cursor: pointer;\n",
              "      display: none;\n",
              "      fill: #1967D2;\n",
              "      height: 32px;\n",
              "      padding: 0 0 0 0;\n",
              "      width: 32px;\n",
              "    }\n",
              "\n",
              "    .colab-df-convert:hover {\n",
              "      background-color: #E2EBFA;\n",
              "      box-shadow: 0px 1px 2px rgba(60, 64, 67, 0.3), 0px 1px 3px 1px rgba(60, 64, 67, 0.15);\n",
              "      fill: #174EA6;\n",
              "    }\n",
              "\n",
              "    [theme=dark] .colab-df-convert {\n",
              "      background-color: #3B4455;\n",
              "      fill: #D2E3FC;\n",
              "    }\n",
              "\n",
              "    [theme=dark] .colab-df-convert:hover {\n",
              "      background-color: #434B5C;\n",
              "      box-shadow: 0px 1px 3px 1px rgba(0, 0, 0, 0.15);\n",
              "      filter: drop-shadow(0px 1px 2px rgba(0, 0, 0, 0.3));\n",
              "      fill: #FFFFFF;\n",
              "    }\n",
              "  </style>\n",
              "\n",
              "      <script>\n",
              "        const buttonEl =\n",
              "          document.querySelector('#df-60452498-51cd-4a4c-81e1-afa57b75aee7 button.colab-df-convert');\n",
              "        buttonEl.style.display =\n",
              "          google.colab.kernel.accessAllowed ? 'block' : 'none';\n",
              "\n",
              "        async function convertToInteractive(key) {\n",
              "          const element = document.querySelector('#df-60452498-51cd-4a4c-81e1-afa57b75aee7');\n",
              "          const dataTable =\n",
              "            await google.colab.kernel.invokeFunction('convertToInteractive',\n",
              "                                                     [key], {});\n",
              "          if (!dataTable) return;\n",
              "\n",
              "          const docLinkHtml = 'Like what you see? Visit the ' +\n",
              "            '<a target=\"_blank\" href=https://colab.research.google.com/notebooks/data_table.ipynb>data table notebook</a>'\n",
              "            + ' to learn more about interactive tables.';\n",
              "          element.innerHTML = '';\n",
              "          dataTable['output_type'] = 'display_data';\n",
              "          await google.colab.output.renderOutput(dataTable, element);\n",
              "          const docLink = document.createElement('div');\n",
              "          docLink.innerHTML = docLinkHtml;\n",
              "          element.appendChild(docLink);\n",
              "        }\n",
              "      </script>\n",
              "    </div>\n",
              "  </div>\n",
              "  "
            ]
          },
          "metadata": {},
          "execution_count": 6
        }
      ]
    },
    {
      "cell_type": "markdown",
      "source": [
        "### 1. Checking Null Values"
      ],
      "metadata": {
        "id": "FgrHfU4IT-tA"
      }
    },
    {
      "cell_type": "code",
      "source": [
        "df.isnull().sum()"
      ],
      "metadata": {
        "colab": {
          "base_uri": "https://localhost:8080/"
        },
        "id": "Y-Q7yrEFTMhe",
        "outputId": "8a798e21-e454-478c-cec4-0a8bcee4ec12"
      },
      "execution_count": 8,
      "outputs": [
        {
          "output_type": "execute_result",
          "data": {
            "text/plain": [
              "name         0\n",
              "singer       0\n",
              "singer_id    0\n",
              "duration     0\n",
              "link         0\n",
              "language     0\n",
              "dtype: int64"
            ]
          },
          "metadata": {},
          "execution_count": 8
        }
      ]
    },
    {
      "cell_type": "markdown",
      "source": [
        "### 2. Data Preprocess\n",
        "\n",
        "##### 2.1) Dealing with Duration"
      ],
      "metadata": {
        "id": "lag-uYeRUdJN"
      }
    },
    {
      "cell_type": "code",
      "source": [
        "duration_lst = []\n",
        "\n",
        "for duration in df['duration']:\n",
        "\n",
        "  m = int(duration.split(':')[0])\n",
        "  s = int(duration.split(':')[1])\n",
        "  sec = (m*60) + s\n",
        "\n",
        "  duration_lst.append(sec)\n",
        "\n",
        "df['duration'] = duration_lst\n",
        "\n",
        "df.head()"
      ],
      "metadata": {
        "colab": {
          "base_uri": "https://localhost:8080/",
          "height": 206
        },
        "id": "YBMcD9HNUIMj",
        "outputId": "9aae7961-caa7-4d47-86c4-4aa054974511"
      },
      "execution_count": 26,
      "outputs": [
        {
          "output_type": "execute_result",
          "data": {
            "text/plain": [
              "                                      name                     singer  \\\n",
              "0                    Dil - E - Nadan Tujhe  Chitra Singh|Jagjit Singh   \n",
              "1        Agar Hum Kahen Aur Woh Muskara De  Chitra Singh|Jagjit Singh   \n",
              "2                            Unke Dekhe Se               Jagjit Singh   \n",
              "3  Yeh Na Thi Hamari Qismat - Chitra Singh               Chitra Singh   \n",
              "4                  Hazaron Khwahishen Aisi               Jagjit Singh   \n",
              "\n",
              "                                      singer_id  duration  \\\n",
              "0  /artist/chitra-singh|/artist/jagjeet-singh-1       300   \n",
              "1  /artist/chitra-singh|/artist/jagjeet-singh-1       386   \n",
              "2                       /artist/jagjeet-singh-1       221   \n",
              "3                          /artist/chitra-singh       266   \n",
              "4                       /artist/jagjeet-singh-1       339   \n",
              "\n",
              "                                  link language  \n",
              "0                 /dil-e-nadan-tujhe-3     Urdu  \n",
              "1  /agar-hum-kahen-aur-woh-muskura-den     Urdu  \n",
              "2                       /unke-dekhe-se     Urdu  \n",
              "3          /yeh-na-thi-hamari-qismat-2     Urdu  \n",
              "4           /hazaron-khwahishen-aisi-1     Urdu  "
            ],
            "text/html": [
              "\n",
              "  <div id=\"df-74628d30-4f8b-4406-833f-f4ec30aabf4d\">\n",
              "    <div class=\"colab-df-container\">\n",
              "      <div>\n",
              "<style scoped>\n",
              "    .dataframe tbody tr th:only-of-type {\n",
              "        vertical-align: middle;\n",
              "    }\n",
              "\n",
              "    .dataframe tbody tr th {\n",
              "        vertical-align: top;\n",
              "    }\n",
              "\n",
              "    .dataframe thead th {\n",
              "        text-align: right;\n",
              "    }\n",
              "</style>\n",
              "<table border=\"1\" class=\"dataframe\">\n",
              "  <thead>\n",
              "    <tr style=\"text-align: right;\">\n",
              "      <th></th>\n",
              "      <th>name</th>\n",
              "      <th>singer</th>\n",
              "      <th>singer_id</th>\n",
              "      <th>duration</th>\n",
              "      <th>link</th>\n",
              "      <th>language</th>\n",
              "    </tr>\n",
              "  </thead>\n",
              "  <tbody>\n",
              "    <tr>\n",
              "      <th>0</th>\n",
              "      <td>Dil - E - Nadan Tujhe</td>\n",
              "      <td>Chitra Singh|Jagjit Singh</td>\n",
              "      <td>/artist/chitra-singh|/artist/jagjeet-singh-1</td>\n",
              "      <td>300</td>\n",
              "      <td>/dil-e-nadan-tujhe-3</td>\n",
              "      <td>Urdu</td>\n",
              "    </tr>\n",
              "    <tr>\n",
              "      <th>1</th>\n",
              "      <td>Agar Hum Kahen Aur Woh Muskara De</td>\n",
              "      <td>Chitra Singh|Jagjit Singh</td>\n",
              "      <td>/artist/chitra-singh|/artist/jagjeet-singh-1</td>\n",
              "      <td>386</td>\n",
              "      <td>/agar-hum-kahen-aur-woh-muskura-den</td>\n",
              "      <td>Urdu</td>\n",
              "    </tr>\n",
              "    <tr>\n",
              "      <th>2</th>\n",
              "      <td>Unke Dekhe Se</td>\n",
              "      <td>Jagjit Singh</td>\n",
              "      <td>/artist/jagjeet-singh-1</td>\n",
              "      <td>221</td>\n",
              "      <td>/unke-dekhe-se</td>\n",
              "      <td>Urdu</td>\n",
              "    </tr>\n",
              "    <tr>\n",
              "      <th>3</th>\n",
              "      <td>Yeh Na Thi Hamari Qismat - Chitra Singh</td>\n",
              "      <td>Chitra Singh</td>\n",
              "      <td>/artist/chitra-singh</td>\n",
              "      <td>266</td>\n",
              "      <td>/yeh-na-thi-hamari-qismat-2</td>\n",
              "      <td>Urdu</td>\n",
              "    </tr>\n",
              "    <tr>\n",
              "      <th>4</th>\n",
              "      <td>Hazaron Khwahishen Aisi</td>\n",
              "      <td>Jagjit Singh</td>\n",
              "      <td>/artist/jagjeet-singh-1</td>\n",
              "      <td>339</td>\n",
              "      <td>/hazaron-khwahishen-aisi-1</td>\n",
              "      <td>Urdu</td>\n",
              "    </tr>\n",
              "  </tbody>\n",
              "</table>\n",
              "</div>\n",
              "      <button class=\"colab-df-convert\" onclick=\"convertToInteractive('df-74628d30-4f8b-4406-833f-f4ec30aabf4d')\"\n",
              "              title=\"Convert this dataframe to an interactive table.\"\n",
              "              style=\"display:none;\">\n",
              "        \n",
              "  <svg xmlns=\"http://www.w3.org/2000/svg\" height=\"24px\"viewBox=\"0 0 24 24\"\n",
              "       width=\"24px\">\n",
              "    <path d=\"M0 0h24v24H0V0z\" fill=\"none\"/>\n",
              "    <path d=\"M18.56 5.44l.94 2.06.94-2.06 2.06-.94-2.06-.94-.94-2.06-.94 2.06-2.06.94zm-11 1L8.5 8.5l.94-2.06 2.06-.94-2.06-.94L8.5 2.5l-.94 2.06-2.06.94zm10 10l.94 2.06.94-2.06 2.06-.94-2.06-.94-.94-2.06-.94 2.06-2.06.94z\"/><path d=\"M17.41 7.96l-1.37-1.37c-.4-.4-.92-.59-1.43-.59-.52 0-1.04.2-1.43.59L10.3 9.45l-7.72 7.72c-.78.78-.78 2.05 0 2.83L4 21.41c.39.39.9.59 1.41.59.51 0 1.02-.2 1.41-.59l7.78-7.78 2.81-2.81c.8-.78.8-2.07 0-2.86zM5.41 20L4 18.59l7.72-7.72 1.47 1.35L5.41 20z\"/>\n",
              "  </svg>\n",
              "      </button>\n",
              "      \n",
              "  <style>\n",
              "    .colab-df-container {\n",
              "      display:flex;\n",
              "      flex-wrap:wrap;\n",
              "      gap: 12px;\n",
              "    }\n",
              "\n",
              "    .colab-df-convert {\n",
              "      background-color: #E8F0FE;\n",
              "      border: none;\n",
              "      border-radius: 50%;\n",
              "      cursor: pointer;\n",
              "      display: none;\n",
              "      fill: #1967D2;\n",
              "      height: 32px;\n",
              "      padding: 0 0 0 0;\n",
              "      width: 32px;\n",
              "    }\n",
              "\n",
              "    .colab-df-convert:hover {\n",
              "      background-color: #E2EBFA;\n",
              "      box-shadow: 0px 1px 2px rgba(60, 64, 67, 0.3), 0px 1px 3px 1px rgba(60, 64, 67, 0.15);\n",
              "      fill: #174EA6;\n",
              "    }\n",
              "\n",
              "    [theme=dark] .colab-df-convert {\n",
              "      background-color: #3B4455;\n",
              "      fill: #D2E3FC;\n",
              "    }\n",
              "\n",
              "    [theme=dark] .colab-df-convert:hover {\n",
              "      background-color: #434B5C;\n",
              "      box-shadow: 0px 1px 3px 1px rgba(0, 0, 0, 0.15);\n",
              "      filter: drop-shadow(0px 1px 2px rgba(0, 0, 0, 0.3));\n",
              "      fill: #FFFFFF;\n",
              "    }\n",
              "  </style>\n",
              "\n",
              "      <script>\n",
              "        const buttonEl =\n",
              "          document.querySelector('#df-74628d30-4f8b-4406-833f-f4ec30aabf4d button.colab-df-convert');\n",
              "        buttonEl.style.display =\n",
              "          google.colab.kernel.accessAllowed ? 'block' : 'none';\n",
              "\n",
              "        async function convertToInteractive(key) {\n",
              "          const element = document.querySelector('#df-74628d30-4f8b-4406-833f-f4ec30aabf4d');\n",
              "          const dataTable =\n",
              "            await google.colab.kernel.invokeFunction('convertToInteractive',\n",
              "                                                     [key], {});\n",
              "          if (!dataTable) return;\n",
              "\n",
              "          const docLinkHtml = 'Like what you see? Visit the ' +\n",
              "            '<a target=\"_blank\" href=https://colab.research.google.com/notebooks/data_table.ipynb>data table notebook</a>'\n",
              "            + ' to learn more about interactive tables.';\n",
              "          element.innerHTML = '';\n",
              "          dataTable['output_type'] = 'display_data';\n",
              "          await google.colab.output.renderOutput(dataTable, element);\n",
              "          const docLink = document.createElement('div');\n",
              "          docLink.innerHTML = docLinkHtml;\n",
              "          element.appendChild(docLink);\n",
              "        }\n",
              "      </script>\n",
              "    </div>\n",
              "  </div>\n",
              "  "
            ]
          },
          "metadata": {},
          "execution_count": 26
        }
      ]
    },
    {
      "cell_type": "markdown",
      "source": [
        "### 3. Data Analysis\n",
        "\n",
        "##### 3.1) Average Duration of a song thorughout the dataset"
      ],
      "metadata": {
        "id": "clgnWn8cW0wq"
      }
    },
    {
      "cell_type": "code",
      "source": [
        "print(\"Average duration of a song is\", int(df['duration'].sum() / len(df['duration'])), 'seconds')"
      ],
      "metadata": {
        "colab": {
          "base_uri": "https://localhost:8080/"
        },
        "id": "IMr35Kg8U8Kt",
        "outputId": "c4a4073e-f532-45f8-807c-b271d5ceb56c"
      },
      "execution_count": 34,
      "outputs": [
        {
          "output_type": "stream",
          "name": "stdout",
          "text": [
            "Average duration of a song is 295 seconds\n"
          ]
        }
      ]
    },
    {
      "cell_type": "markdown",
      "source": [
        "##### 3.2) How many laguages of songs are there is the dataset?"
      ],
      "metadata": {
        "id": "PEtnsxXUXwQ1"
      }
    },
    {
      "cell_type": "code",
      "source": [
        "len(set(df['language']))"
      ],
      "metadata": {
        "colab": {
          "base_uri": "https://localhost:8080/"
        },
        "id": "KlJT1XILVlZG",
        "outputId": "ed2ecbcd-a6c7-4aa4-d2e7-a70ad9220297"
      },
      "execution_count": 40,
      "outputs": [
        {
          "output_type": "execute_result",
          "data": {
            "text/plain": [
              "16"
            ]
          },
          "metadata": {},
          "execution_count": 40
        }
      ]
    },
    {
      "cell_type": "markdown",
      "source": [
        "##### 3.3) What are all the languages in the dataset?"
      ],
      "metadata": {
        "id": "A2_KhAl2YUbW"
      }
    },
    {
      "cell_type": "code",
      "source": [
        "for i in set(df['language']):\n",
        "  print(i)"
      ],
      "metadata": {
        "colab": {
          "base_uri": "https://localhost:8080/"
        },
        "id": "fF7C0ea1YTra",
        "outputId": "c01ba410-0081-4dc7-f3d7-022603f9c005"
      },
      "execution_count": 44,
      "outputs": [
        {
          "output_type": "stream",
          "name": "stdout",
          "text": [
            "Punjabi\n",
            "Rajasthani\n",
            "Old\n",
            "Marathi\n",
            "Bhojpuri\n",
            "Odia\n",
            "Haryanvi\n",
            "Hindi\n",
            "Telugu\n",
            "Urdu\n",
            "Tamil\n",
            "Malayalam\n",
            "Gujarati\n",
            "Bengali\n",
            "Kannada\n",
            "Assamese\n"
          ]
        }
      ]
    },
    {
      "cell_type": "markdown",
      "source": [
        "#### 3.4) How many Punjabi songs are there?"
      ],
      "metadata": {
        "id": "PCaewS-nYsq9"
      }
    },
    {
      "cell_type": "code",
      "source": [
        "c = 0\n",
        "\n",
        "for i in df['language']:\n",
        "  if (i == 'Punjabi'):\n",
        "    c += 1\n",
        "\n",
        "print('There are',c,'songs in Punjabi')"
      ],
      "metadata": {
        "colab": {
          "base_uri": "https://localhost:8080/"
        },
        "id": "7-I7c0NQVmyN",
        "outputId": "a6b28a15-2a2c-49bf-c1fc-d32e9ff357d2"
      },
      "execution_count": 49,
      "outputs": [
        {
          "output_type": "stream",
          "name": "stdout",
          "text": [
            "There are 3818 songs in Punjabi\n"
          ]
        }
      ]
    },
    {
      "cell_type": "code",
      "source": [
        "len(df[df['language'] == 'Punjabi'])"
      ],
      "metadata": {
        "colab": {
          "base_uri": "https://localhost:8080/"
        },
        "id": "3LOdCL_vV2Sg",
        "outputId": "6d3e45d4-3ab9-4c85-b7b6-be41e8a5f15a"
      },
      "execution_count": 59,
      "outputs": [
        {
          "output_type": "execute_result",
          "data": {
            "text/plain": [
              "3818"
            ]
          },
          "metadata": {},
          "execution_count": 59
        }
      ]
    },
    {
      "cell_type": "markdown",
      "source": [
        "#### 3.5) Number of songs in each Language?"
      ],
      "metadata": {
        "id": "fwfLAwnNaDG1"
      }
    },
    {
      "cell_type": "code",
      "source": [
        "for lang in df['language'].unique():\n",
        "  print(lang, len(df[df['language'] == lang]))"
      ],
      "metadata": {
        "colab": {
          "base_uri": "https://localhost:8080/"
        },
        "id": "ugzFQhupV32o",
        "outputId": "7cc256b9-99eb-4e06-e2cf-1064261a1cb0"
      },
      "execution_count": 68,
      "outputs": [
        {
          "output_type": "stream",
          "name": "stdout",
          "text": [
            "Urdu 3116\n",
            "Gujarati 2115\n",
            "Tamil 4677\n",
            "Kannada 3559\n",
            "Rajasthani 541\n",
            "Haryanvi 228\n",
            "Punjabi 3818\n",
            "Hindi 4993\n",
            "Old 4993\n",
            "Malayalam 479\n",
            "Marathi 4699\n",
            "Telugu 4996\n",
            "Odia 940\n",
            "Bhojpuri 519\n",
            "Assamese 724\n",
            "Bengali 958\n"
          ]
        }
      ]
    },
    {
      "cell_type": "markdown",
      "source": [
        "#### 3.6) Average Duration of song in each language"
      ],
      "metadata": {
        "id": "1HeZSInibcyt"
      }
    },
    {
      "cell_type": "code",
      "source": [
        "for lang in df['language'].unique():\n",
        "  print(lang, int(df[df['language'] == lang]['duration'].mean()))"
      ],
      "metadata": {
        "colab": {
          "base_uri": "https://localhost:8080/"
        },
        "id": "pvcB_o0FbYdL",
        "outputId": "cb29bd18-4c09-49d7-b9f5-b44c1fd7f5d6"
      },
      "execution_count": 75,
      "outputs": [
        {
          "output_type": "stream",
          "name": "stdout",
          "text": [
            "Urdu 407\n",
            "Gujarati 271\n",
            "Tamil 270\n",
            "Kannada 250\n",
            "Rajasthani 291\n",
            "Haryanvi 320\n",
            "Punjabi 324\n",
            "Hindi 307\n",
            "Old 307\n",
            "Malayalam 242\n",
            "Marathi 281\n",
            "Telugu 279\n",
            "Odia 257\n",
            "Bhojpuri 357\n",
            "Assamese 228\n",
            "Bengali 255\n"
          ]
        }
      ]
    },
    {
      "cell_type": "markdown",
      "source": [
        "#### 3.7) How many unique singers are there in the dataset?"
      ],
      "metadata": {
        "id": "0D4cCclUcBMZ"
      }
    },
    {
      "cell_type": "code",
      "source": [
        "all_singer = []\n",
        "for singers in df['singer']:\n",
        "  all_singer += singers.split('|')\n",
        "\n",
        "print('Total Singers : ', len(set(all_singer)))"
      ],
      "metadata": {
        "colab": {
          "base_uri": "https://localhost:8080/"
        },
        "id": "Z3SWKZTfZare",
        "outputId": "0b6fa036-1c78-4de0-e5f0-09eb45ff229e"
      },
      "execution_count": 84,
      "outputs": [
        {
          "output_type": "stream",
          "name": "stdout",
          "text": [
            "Total Singers :  3940\n"
          ]
        }
      ]
    },
    {
      "cell_type": "markdown",
      "source": [
        "##### 3.8) Who has the most number of songs played?"
      ],
      "metadata": {
        "id": "0TnuqbKydeQI"
      }
    },
    {
      "cell_type": "code",
      "source": [
        "data = []\n",
        "\n",
        "unique_singers = list(set(all_singer))\n",
        "\n",
        "for i in tqdm(unique_singers):\n",
        "\n",
        "  c = 0\n",
        "  for singers_ in df['singer']:\n",
        "    if (i in singers_):\n",
        "      c += 1\n",
        "\n",
        "  data.append([i,c])"
      ],
      "metadata": {
        "colab": {
          "base_uri": "https://localhost:8080/"
        },
        "id": "_6fUYIsHaW8a",
        "outputId": "0b9b0279-3101-439c-d809-00e5e6439a6a"
      },
      "execution_count": 94,
      "outputs": [
        {
          "output_type": "stream",
          "name": "stderr",
          "text": [
            "100%|██████████| 3940/3940 [00:40<00:00, 97.38it/s] \n"
          ]
        }
      ]
    },
    {
      "cell_type": "code",
      "source": [
        "songs = pd.DataFrame(data, columns = ['singer','songs'])\n",
        "\n",
        "songs.head()\n",
        "\n",
        "songs.sort_values(by = 'songs', ascending = False).head()"
      ],
      "metadata": {
        "colab": {
          "base_uri": "https://localhost:8080/",
          "height": 206
        },
        "id": "Wri8ji4padqf",
        "outputId": "d4d1425b-241c-44e6-8b39-07481e9838a9"
      },
      "execution_count": 104,
      "outputs": [
        {
          "output_type": "execute_result",
          "data": {
            "text/plain": [
              "                      singer  songs\n",
              "346   S. P. Balasubrahmanyam   3659\n",
              "3464                   Kumar   3270\n",
              "2703                 Susheel   3216\n",
              "2764                Susheela   3215\n",
              "1591             P. Susheela   3213"
            ],
            "text/html": [
              "\n",
              "  <div id=\"df-1bca3fb8-55c0-4f2b-9ab1-fd69eeac18d3\">\n",
              "    <div class=\"colab-df-container\">\n",
              "      <div>\n",
              "<style scoped>\n",
              "    .dataframe tbody tr th:only-of-type {\n",
              "        vertical-align: middle;\n",
              "    }\n",
              "\n",
              "    .dataframe tbody tr th {\n",
              "        vertical-align: top;\n",
              "    }\n",
              "\n",
              "    .dataframe thead th {\n",
              "        text-align: right;\n",
              "    }\n",
              "</style>\n",
              "<table border=\"1\" class=\"dataframe\">\n",
              "  <thead>\n",
              "    <tr style=\"text-align: right;\">\n",
              "      <th></th>\n",
              "      <th>singer</th>\n",
              "      <th>songs</th>\n",
              "    </tr>\n",
              "  </thead>\n",
              "  <tbody>\n",
              "    <tr>\n",
              "      <th>346</th>\n",
              "      <td>S. P. Balasubrahmanyam</td>\n",
              "      <td>3659</td>\n",
              "    </tr>\n",
              "    <tr>\n",
              "      <th>3464</th>\n",
              "      <td>Kumar</td>\n",
              "      <td>3270</td>\n",
              "    </tr>\n",
              "    <tr>\n",
              "      <th>2703</th>\n",
              "      <td>Susheel</td>\n",
              "      <td>3216</td>\n",
              "    </tr>\n",
              "    <tr>\n",
              "      <th>2764</th>\n",
              "      <td>Susheela</td>\n",
              "      <td>3215</td>\n",
              "    </tr>\n",
              "    <tr>\n",
              "      <th>1591</th>\n",
              "      <td>P. Susheela</td>\n",
              "      <td>3213</td>\n",
              "    </tr>\n",
              "  </tbody>\n",
              "</table>\n",
              "</div>\n",
              "      <button class=\"colab-df-convert\" onclick=\"convertToInteractive('df-1bca3fb8-55c0-4f2b-9ab1-fd69eeac18d3')\"\n",
              "              title=\"Convert this dataframe to an interactive table.\"\n",
              "              style=\"display:none;\">\n",
              "        \n",
              "  <svg xmlns=\"http://www.w3.org/2000/svg\" height=\"24px\"viewBox=\"0 0 24 24\"\n",
              "       width=\"24px\">\n",
              "    <path d=\"M0 0h24v24H0V0z\" fill=\"none\"/>\n",
              "    <path d=\"M18.56 5.44l.94 2.06.94-2.06 2.06-.94-2.06-.94-.94-2.06-.94 2.06-2.06.94zm-11 1L8.5 8.5l.94-2.06 2.06-.94-2.06-.94L8.5 2.5l-.94 2.06-2.06.94zm10 10l.94 2.06.94-2.06 2.06-.94-2.06-.94-.94-2.06-.94 2.06-2.06.94z\"/><path d=\"M17.41 7.96l-1.37-1.37c-.4-.4-.92-.59-1.43-.59-.52 0-1.04.2-1.43.59L10.3 9.45l-7.72 7.72c-.78.78-.78 2.05 0 2.83L4 21.41c.39.39.9.59 1.41.59.51 0 1.02-.2 1.41-.59l7.78-7.78 2.81-2.81c.8-.78.8-2.07 0-2.86zM5.41 20L4 18.59l7.72-7.72 1.47 1.35L5.41 20z\"/>\n",
              "  </svg>\n",
              "      </button>\n",
              "      \n",
              "  <style>\n",
              "    .colab-df-container {\n",
              "      display:flex;\n",
              "      flex-wrap:wrap;\n",
              "      gap: 12px;\n",
              "    }\n",
              "\n",
              "    .colab-df-convert {\n",
              "      background-color: #E8F0FE;\n",
              "      border: none;\n",
              "      border-radius: 50%;\n",
              "      cursor: pointer;\n",
              "      display: none;\n",
              "      fill: #1967D2;\n",
              "      height: 32px;\n",
              "      padding: 0 0 0 0;\n",
              "      width: 32px;\n",
              "    }\n",
              "\n",
              "    .colab-df-convert:hover {\n",
              "      background-color: #E2EBFA;\n",
              "      box-shadow: 0px 1px 2px rgba(60, 64, 67, 0.3), 0px 1px 3px 1px rgba(60, 64, 67, 0.15);\n",
              "      fill: #174EA6;\n",
              "    }\n",
              "\n",
              "    [theme=dark] .colab-df-convert {\n",
              "      background-color: #3B4455;\n",
              "      fill: #D2E3FC;\n",
              "    }\n",
              "\n",
              "    [theme=dark] .colab-df-convert:hover {\n",
              "      background-color: #434B5C;\n",
              "      box-shadow: 0px 1px 3px 1px rgba(0, 0, 0, 0.15);\n",
              "      filter: drop-shadow(0px 1px 2px rgba(0, 0, 0, 0.3));\n",
              "      fill: #FFFFFF;\n",
              "    }\n",
              "  </style>\n",
              "\n",
              "      <script>\n",
              "        const buttonEl =\n",
              "          document.querySelector('#df-1bca3fb8-55c0-4f2b-9ab1-fd69eeac18d3 button.colab-df-convert');\n",
              "        buttonEl.style.display =\n",
              "          google.colab.kernel.accessAllowed ? 'block' : 'none';\n",
              "\n",
              "        async function convertToInteractive(key) {\n",
              "          const element = document.querySelector('#df-1bca3fb8-55c0-4f2b-9ab1-fd69eeac18d3');\n",
              "          const dataTable =\n",
              "            await google.colab.kernel.invokeFunction('convertToInteractive',\n",
              "                                                     [key], {});\n",
              "          if (!dataTable) return;\n",
              "\n",
              "          const docLinkHtml = 'Like what you see? Visit the ' +\n",
              "            '<a target=\"_blank\" href=https://colab.research.google.com/notebooks/data_table.ipynb>data table notebook</a>'\n",
              "            + ' to learn more about interactive tables.';\n",
              "          element.innerHTML = '';\n",
              "          dataTable['output_type'] = 'display_data';\n",
              "          await google.colab.output.renderOutput(dataTable, element);\n",
              "          const docLink = document.createElement('div');\n",
              "          docLink.innerHTML = docLinkHtml;\n",
              "          element.appendChild(docLink);\n",
              "        }\n",
              "      </script>\n",
              "    </div>\n",
              "  </div>\n",
              "  "
            ]
          },
          "metadata": {},
          "execution_count": 104
        }
      ]
    },
    {
      "cell_type": "markdown",
      "source": [
        "#### 3.9) Singer who played most number of songs in each language?"
      ],
      "metadata": {
        "id": "YglSuXeZgclK"
      }
    },
    {
      "cell_type": "code",
      "source": [
        "for lang in df['language'].unique():\n",
        "\n",
        "  df_ = df[df['language'] == lang]\n",
        "  \n",
        "  all_singer = []\n",
        "  for singers in df_['singer']:\n",
        "    all_singer += singers.split('|')\n",
        "\n",
        "  print(lang, len(df_),len(set(all_singer)))"
      ],
      "metadata": {
        "colab": {
          "base_uri": "https://localhost:8080/"
        },
        "id": "Mx1ewrlNgcLY",
        "outputId": "6c75932f-f269-41d3-f10f-fbcac79170c3"
      },
      "execution_count": 111,
      "outputs": [
        {
          "output_type": "stream",
          "name": "stdout",
          "text": [
            "Urdu 3116 385\n",
            "Gujarati 2115 303\n",
            "Tamil 4677 510\n",
            "Kannada 3559 379\n",
            "Rajasthani 541 218\n",
            "Haryanvi 228 76\n",
            "Punjabi 3818 636\n",
            "Hindi 4993 515\n",
            "Old 4993 515\n",
            "Malayalam 479 72\n",
            "Marathi 4699 569\n",
            "Telugu 4996 369\n",
            "Odia 940 243\n",
            "Bhojpuri 519 109\n",
            "Assamese 724 228\n",
            "Bengali 958 192\n"
          ]
        }
      ]
    },
    {
      "cell_type": "code",
      "source": [
        ""
      ],
      "metadata": {
        "colab": {
          "base_uri": "https://localhost:8080/",
          "height": 206
        },
        "id": "6P5W21v_afJk",
        "outputId": "a5ad09a6-7518-41bb-beca-1384d32006e6"
      },
      "execution_count": 103,
      "outputs": [
        {
          "output_type": "execute_result",
          "data": {
            "text/plain": [
              "                      singer  songs\n",
              "346   S. P. Balasubrahmanyam   3659\n",
              "3464                   Kumar   3270\n",
              "2703                 Susheel   3216\n",
              "2764                Susheela   3215\n",
              "1591             P. Susheela   3213"
            ],
            "text/html": [
              "\n",
              "  <div id=\"df-691e5880-75dc-4cdf-afc6-74d71b4ea1e9\">\n",
              "    <div class=\"colab-df-container\">\n",
              "      <div>\n",
              "<style scoped>\n",
              "    .dataframe tbody tr th:only-of-type {\n",
              "        vertical-align: middle;\n",
              "    }\n",
              "\n",
              "    .dataframe tbody tr th {\n",
              "        vertical-align: top;\n",
              "    }\n",
              "\n",
              "    .dataframe thead th {\n",
              "        text-align: right;\n",
              "    }\n",
              "</style>\n",
              "<table border=\"1\" class=\"dataframe\">\n",
              "  <thead>\n",
              "    <tr style=\"text-align: right;\">\n",
              "      <th></th>\n",
              "      <th>singer</th>\n",
              "      <th>songs</th>\n",
              "    </tr>\n",
              "  </thead>\n",
              "  <tbody>\n",
              "    <tr>\n",
              "      <th>346</th>\n",
              "      <td>S. P. Balasubrahmanyam</td>\n",
              "      <td>3659</td>\n",
              "    </tr>\n",
              "    <tr>\n",
              "      <th>3464</th>\n",
              "      <td>Kumar</td>\n",
              "      <td>3270</td>\n",
              "    </tr>\n",
              "    <tr>\n",
              "      <th>2703</th>\n",
              "      <td>Susheel</td>\n",
              "      <td>3216</td>\n",
              "    </tr>\n",
              "    <tr>\n",
              "      <th>2764</th>\n",
              "      <td>Susheela</td>\n",
              "      <td>3215</td>\n",
              "    </tr>\n",
              "    <tr>\n",
              "      <th>1591</th>\n",
              "      <td>P. Susheela</td>\n",
              "      <td>3213</td>\n",
              "    </tr>\n",
              "  </tbody>\n",
              "</table>\n",
              "</div>\n",
              "      <button class=\"colab-df-convert\" onclick=\"convertToInteractive('df-691e5880-75dc-4cdf-afc6-74d71b4ea1e9')\"\n",
              "              title=\"Convert this dataframe to an interactive table.\"\n",
              "              style=\"display:none;\">\n",
              "        \n",
              "  <svg xmlns=\"http://www.w3.org/2000/svg\" height=\"24px\"viewBox=\"0 0 24 24\"\n",
              "       width=\"24px\">\n",
              "    <path d=\"M0 0h24v24H0V0z\" fill=\"none\"/>\n",
              "    <path d=\"M18.56 5.44l.94 2.06.94-2.06 2.06-.94-2.06-.94-.94-2.06-.94 2.06-2.06.94zm-11 1L8.5 8.5l.94-2.06 2.06-.94-2.06-.94L8.5 2.5l-.94 2.06-2.06.94zm10 10l.94 2.06.94-2.06 2.06-.94-2.06-.94-.94-2.06-.94 2.06-2.06.94z\"/><path d=\"M17.41 7.96l-1.37-1.37c-.4-.4-.92-.59-1.43-.59-.52 0-1.04.2-1.43.59L10.3 9.45l-7.72 7.72c-.78.78-.78 2.05 0 2.83L4 21.41c.39.39.9.59 1.41.59.51 0 1.02-.2 1.41-.59l7.78-7.78 2.81-2.81c.8-.78.8-2.07 0-2.86zM5.41 20L4 18.59l7.72-7.72 1.47 1.35L5.41 20z\"/>\n",
              "  </svg>\n",
              "      </button>\n",
              "      \n",
              "  <style>\n",
              "    .colab-df-container {\n",
              "      display:flex;\n",
              "      flex-wrap:wrap;\n",
              "      gap: 12px;\n",
              "    }\n",
              "\n",
              "    .colab-df-convert {\n",
              "      background-color: #E8F0FE;\n",
              "      border: none;\n",
              "      border-radius: 50%;\n",
              "      cursor: pointer;\n",
              "      display: none;\n",
              "      fill: #1967D2;\n",
              "      height: 32px;\n",
              "      padding: 0 0 0 0;\n",
              "      width: 32px;\n",
              "    }\n",
              "\n",
              "    .colab-df-convert:hover {\n",
              "      background-color: #E2EBFA;\n",
              "      box-shadow: 0px 1px 2px rgba(60, 64, 67, 0.3), 0px 1px 3px 1px rgba(60, 64, 67, 0.15);\n",
              "      fill: #174EA6;\n",
              "    }\n",
              "\n",
              "    [theme=dark] .colab-df-convert {\n",
              "      background-color: #3B4455;\n",
              "      fill: #D2E3FC;\n",
              "    }\n",
              "\n",
              "    [theme=dark] .colab-df-convert:hover {\n",
              "      background-color: #434B5C;\n",
              "      box-shadow: 0px 1px 3px 1px rgba(0, 0, 0, 0.15);\n",
              "      filter: drop-shadow(0px 1px 2px rgba(0, 0, 0, 0.3));\n",
              "      fill: #FFFFFF;\n",
              "    }\n",
              "  </style>\n",
              "\n",
              "      <script>\n",
              "        const buttonEl =\n",
              "          document.querySelector('#df-691e5880-75dc-4cdf-afc6-74d71b4ea1e9 button.colab-df-convert');\n",
              "        buttonEl.style.display =\n",
              "          google.colab.kernel.accessAllowed ? 'block' : 'none';\n",
              "\n",
              "        async function convertToInteractive(key) {\n",
              "          const element = document.querySelector('#df-691e5880-75dc-4cdf-afc6-74d71b4ea1e9');\n",
              "          const dataTable =\n",
              "            await google.colab.kernel.invokeFunction('convertToInteractive',\n",
              "                                                     [key], {});\n",
              "          if (!dataTable) return;\n",
              "\n",
              "          const docLinkHtml = 'Like what you see? Visit the ' +\n",
              "            '<a target=\"_blank\" href=https://colab.research.google.com/notebooks/data_table.ipynb>data table notebook</a>'\n",
              "            + ' to learn more about interactive tables.';\n",
              "          element.innerHTML = '';\n",
              "          dataTable['output_type'] = 'display_data';\n",
              "          await google.colab.output.renderOutput(dataTable, element);\n",
              "          const docLink = document.createElement('div');\n",
              "          docLink.innerHTML = docLinkHtml;\n",
              "          element.appendChild(docLink);\n",
              "        }\n",
              "      </script>\n",
              "    </div>\n",
              "  </div>\n",
              "  "
            ]
          },
          "metadata": {},
          "execution_count": 103
        }
      ]
    },
    {
      "cell_type": "code",
      "source": [
        ""
      ],
      "metadata": {
        "id": "qFRURG_5fOXx"
      },
      "execution_count": null,
      "outputs": []
    }
  ]
}